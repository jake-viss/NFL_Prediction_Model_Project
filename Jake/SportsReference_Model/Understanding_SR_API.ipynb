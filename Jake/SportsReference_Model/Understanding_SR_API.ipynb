{
 "cells": [
  {
   "cell_type": "code",
   "execution_count": 37,
   "id": "052a6f6c-8715-4457-b660-56bfda23fd14",
   "metadata": {},
   "outputs": [],
   "source": [
    "# Import sportsreference modules as needed\n",
    "from sportsreference.nfl.teams import Teams\n",
    "from sportsreference.nfl.teams import Schedule\n",
    "from sportsreference.nfl.boxscore import Boxscores, Boxscore\n",
    "import pandas as pd\n"
   ]
  },
  {
   "cell_type": "code",
   "execution_count": 20,
   "id": "c189de95-92ea-4389-add6-98c840eee537",
   "metadata": {},
   "outputs": [
    {
     "name": "stdout",
     "output_type": "stream",
     "text": [
      "Tampa Bay Buccaneers 8 3 15\n",
      "Indianapolis Colts 6 6 15\n",
      "New England Patriots 8 4 15\n",
      "Buffalo Bills 7 4 16\n",
      "Dallas Cowboys 7 4 15\n",
      "Arizona Cardinals 9 2 11\n",
      "Cincinnati Bengals 7 4 15\n",
      "Philadelphia Eagles 5 7 13\n",
      "Tennessee Titans 8 4 21\n",
      "Los Angeles Rams 7 4 14\n",
      "Green Bay Packers 9 3 10\n",
      "Minnesota Vikings 5 6 8\n",
      "Kansas City Chiefs 7 4 22\n",
      "San Francisco 49ers 6 5 15\n",
      "Los Angeles Chargers 6 5 12\n",
      "Baltimore Ravens 8 3 17\n",
      "Las Vegas Raiders 6 5 12\n",
      "New Orleans Saints 5 6 12\n",
      "Cleveland Browns 6 6 13\n",
      "Carolina Panthers 5 7 20\n",
      "Miami Dolphins 5 7 20\n",
      "Washington Football Team 5 6 16\n",
      "Denver Broncos 6 5 12\n",
      "Pittsburgh Steelers 5 5 14\n",
      "Seattle Seahawks 3 8 7\n",
      "New York Giants 4 7 14\n",
      "New York Jets 3 8 24\n",
      "Atlanta Falcons 5 6 18\n",
      "Chicago Bears 4 7 15\n",
      "Detroit Lions 0 10 14\n",
      "Jacksonville Jaguars 2 9 19\n",
      "Houston Texans 2 9 18\n"
     ]
    }
   ],
   "source": [
    "# Print team name and record.\n",
    "for team in Teams():\n",
    "    print(team.name, team.wins, team.losses, team.turnovers)\n",
    "    "
   ]
  },
  {
   "cell_type": "code",
   "execution_count": 28,
   "id": "35b767ce-66d6-4f2a-82c8-1bc66b479ffa",
   "metadata": {},
   "outputs": [
    {
     "name": "stdout",
     "output_type": "stream",
     "text": [
      "             boxscore_index          date   datetime  day  \\\n",
      "202109120nwe   202109120nwe  September 12 2021-09-12  Sun   \n",
      "202109190nyj   202109190nyj  September 19 2021-09-19  Sun   \n",
      "202109260nwe   202109260nwe  September 26 2021-09-26  Sun   \n",
      "202110030nwe   202110030nwe     October 3 2021-10-03  Sun   \n",
      "202110100htx   202110100htx    October 10 2021-10-10  Sun   \n",
      "202110170nwe   202110170nwe    October 17 2021-10-17  Sun   \n",
      "202110240nwe   202110240nwe    October 24 2021-10-24  Sun   \n",
      "202110310sdg   202110310sdg    October 31 2021-10-31  Sun   \n",
      "202111070car   202111070car    November 7 2021-11-07  Sun   \n",
      "202111140nwe   202111140nwe   November 14 2021-11-14  Sun   \n",
      "202111180atl   202111180atl   November 18 2021-11-18  Thu   \n",
      "202111280nwe   202111280nwe   November 28 2021-11-28  Sun   \n",
      "202112060buf   202112060buf    December 6 2021-12-06  Mon   \n",
      "202112190clt   202112190clt   December 19 2021-12-19  Sun   \n",
      "202112260nwe   202112260nwe   December 26 2021-12-26  Sun   \n",
      "202201020nwe   202201020nwe     January 2 2022-01-02  Sun   \n",
      "202201090mia   202201090mia     January 9 2022-01-09  Sun   \n",
      "\n",
      "             extra_points_attempted extra_points_made field_goals_attempted  \\\n",
      "202109120nwe                      1                 1                     3   \n",
      "202109190nyj                      2                 1                     4   \n",
      "202109260nwe                      1                 1                     2   \n",
      "202110030nwe                      2                 2                     2   \n",
      "202110100htx                      2                 1                     4   \n",
      "202110170nwe                      3                 3                     0   \n",
      "202110240nwe                      7                 6                     2   \n",
      "202110310sdg                      1                 1                     4   \n",
      "202111070car                      3                 3                     2   \n",
      "202111140nwe                      6                 6                     1   \n",
      "202111180atl                      2                 1                     4   \n",
      "202111280nwe                      3                 3                     6   \n",
      "202112060buf                   None              None                  None   \n",
      "202112190clt                   None              None                  None   \n",
      "202112260nwe                   None              None                  None   \n",
      "202201020nwe                   None              None                  None   \n",
      "202201090mia                   None              None                  None   \n",
      "\n",
      "             field_goals_made fourth_down_attempts fourth_down_conversions  \\\n",
      "202109120nwe                3                    0                       0   \n",
      "202109190nyj                4                    0                       0   \n",
      "202109260nwe                2                    3                       2   \n",
      "202110030nwe                1                    0                       0   \n",
      "202110100htx                4                    0                       0   \n",
      "202110170nwe                0                    0                       0   \n",
      "202110240nwe                2                    1                       1   \n",
      "202110310sdg                4                    1                       0   \n",
      "202111070car                1                    1                       1   \n",
      "202111140nwe                1                    0                       0   \n",
      "202111180atl                4                    0                       0   \n",
      "202111280nwe                5                    0                       0   \n",
      "202112060buf             None                 None                    None   \n",
      "202112190clt             None                 None                    None   \n",
      "202112260nwe             None                 None                    None   \n",
      "202201020nwe             None                 None                    None   \n",
      "202201090mia             None                 None                    None   \n",
      "\n",
      "              ... rush_touchdowns rush_yards rush_yards_per_attempt  \\\n",
      "202109120nwe  ...               0        125                    4.2   \n",
      "202109190nyj  ...               2        101                    4.2   \n",
      "202109260nwe  ...               0         49                    2.9   \n",
      "202110030nwe  ...               0         -1                   -0.1   \n",
      "202110100htx  ...               1        126                    4.2   \n",
      "202110170nwe  ...               2        120                    4.4   \n",
      "202110240nwe  ...               4        148                    4.6   \n",
      "202110310sdg  ...               1        142                    3.6   \n",
      "202111070car  ...               1        151                    3.9   \n",
      "202111140nwe  ...               2        184                    5.4   \n",
      "202111180atl  ...               0        134                    4.5   \n",
      "202111280nwe  ...               1        105                    4.4   \n",
      "202112060buf  ...            None       None                   None   \n",
      "202112190clt  ...            None       None                   None   \n",
      "202112260nwe  ...            None       None                   None   \n",
      "202201020nwe  ...            None       None                   None   \n",
      "202201090mia  ...            None       None                   None   \n",
      "\n",
      "             third_down_attempts  third_down_conversions time_of_possession  \\\n",
      "202109120nwe                  16                      11              36:43   \n",
      "202109190nyj                  12                       3              27:52   \n",
      "202109260nwe                  19                       7              27:12   \n",
      "202110030nwe                   9                       2              26:05   \n",
      "202110100htx                  11                       6              30:44   \n",
      "202110170nwe                   9                       3              26:51   \n",
      "202110240nwe                  12                       7              32:12   \n",
      "202110310sdg                  19                       9              35:24   \n",
      "202111070car                  14                       6              32:29   \n",
      "202111140nwe                   9                       7              34:02   \n",
      "202111180atl                  12                       4              32:43   \n",
      "202111280nwe                  10                       4              28:58   \n",
      "202112060buf                None                    None                      \n",
      "202112190clt                None                    None                      \n",
      "202112260nwe                None                    None                      \n",
      "202201020nwe                None                    None                      \n",
      "202201090mia                None                    None                      \n",
      "\n",
      "             times_sacked type week yards_lost_from_sacks  \n",
      "202109120nwe            1  Reg    1                    13  \n",
      "202109190nyj            3  Reg    2                    27  \n",
      "202109260nwe            2  Reg    3                    19  \n",
      "202110030nwe            4  Reg    4                    25  \n",
      "202110100htx            1  Reg    5                     5  \n",
      "202110170nwe            2  Reg    6                    14  \n",
      "202110240nwe            1  Reg    7                     8  \n",
      "202110310sdg            1  Reg    8                     7  \n",
      "202111070car            2  Reg    9                    17  \n",
      "202111140nwe            2  Reg   10                    15  \n",
      "202111180atl            3  Reg   11                    33  \n",
      "202111280nwe            2  Reg   12                    21  \n",
      "202112060buf         None  Reg   13                  None  \n",
      "202112190clt         None  Reg   15                  None  \n",
      "202112260nwe         None  Reg   16                  None  \n",
      "202201020nwe         None  Reg   17                  None  \n",
      "202201090mia         None  Reg   18                  None  \n",
      "\n",
      "[17 rows x 38 columns]\n"
     ]
    }
   ],
   "source": [
    "new_england_sched = Schedule('NWE')\n",
    "print(new_england_sched.dataframe)"
   ]
  },
  {
   "cell_type": "code",
   "execution_count": 33,
   "id": "272c0860-0792-4c4c-ac64-bb9f012b7485",
   "metadata": {},
   "outputs": [
    {
     "name": "stdout",
     "output_type": "stream",
     "text": [
      "September 12 16 17\n",
      "September 19 25 6\n",
      "September 26 13 28\n",
      "October 3 17 19\n",
      "October 10 25 22\n",
      "October 17 29 35\n",
      "October 24 54 13\n",
      "October 31 27 24\n",
      "November 7 24 6\n",
      "November 14 45 7\n",
      "November 18 25 0\n",
      "November 28 36 13\n",
      "December 6 None None\n",
      "December 19 None None\n",
      "December 26 None None\n",
      "January 2 None None\n",
      "January 9 None None\n"
     ]
    }
   ],
   "source": [
    "for game in new_england_sched:\n",
    "    print(game.date, game.points_scored, game.points_allowed)"
   ]
  },
  {
   "cell_type": "code",
   "execution_count": 38,
   "id": "c5c86a02-0948-46b0-b112-83ae4a668cfc",
   "metadata": {},
   "outputs": [
    {
     "name": "stdout",
     "output_type": "stream",
     "text": [
      "202109120nwe\n",
      "202109190nyj\n",
      "202109260nwe\n",
      "202110030nwe\n",
      "202110100htx\n",
      "202110170nwe\n",
      "202110240nwe\n",
      "202110310sdg\n",
      "202111070car\n",
      "202111140nwe\n",
      "202111180atl\n",
      "202111280nwe\n",
      "202112060buf\n",
      "202112190clt\n",
      "202112260nwe\n",
      "202201020nwe\n",
      "202201090mia\n"
     ]
    }
   ],
   "source": [
    "new_england_sched = Schedule('NWE')\n",
    "for game in new_england_sched:\n",
    "    print(game.boxscore_index)  # Prints the boxscore URI for each game\n",
    "    boxscore = game.boxscore  # Returns an instance of the Boxscore class for this specific game"
   ]
  },
  {
   "cell_type": "code",
   "execution_count": 53,
   "id": "1c835921-5d60-4893-a5e1-89e8e735097b",
   "metadata": {},
   "outputs": [
    {
     "name": "stdout",
     "output_type": "stream",
     "text": [
      "4\n"
     ]
    }
   ],
   "source": [
    "NWE_TIT_data = Boxscore('202111280nwe')\n",
    "print(NWE_TIT_data.away_turnovers)\n",
    "\n",
    "nwe_tit_df = pd.DataFrame(columns=[['home_score','away_score']])\n",
    "nwe_tit_df['home_score'][0] = NWE_TIT_data.home_turnovers"
   ]
  },
  {
   "cell_type": "code",
   "execution_count": 54,
   "id": "2d1c42a5-e55c-4e9f-bf34-e57df781418c",
   "metadata": {},
   "outputs": [
    {
     "data": {
      "text/html": [
       "<div>\n",
       "<style scoped>\n",
       "    .dataframe tbody tr th:only-of-type {\n",
       "        vertical-align: middle;\n",
       "    }\n",
       "\n",
       "    .dataframe tbody tr th {\n",
       "        vertical-align: top;\n",
       "    }\n",
       "\n",
       "    .dataframe thead tr th {\n",
       "        text-align: left;\n",
       "    }\n",
       "</style>\n",
       "<table border=\"1\" class=\"dataframe\">\n",
       "  <thead>\n",
       "    <tr>\n",
       "      <th></th>\n",
       "      <th>home_score</th>\n",
       "      <th>away_score</th>\n",
       "    </tr>\n",
       "  </thead>\n",
       "  <tbody>\n",
       "  </tbody>\n",
       "</table>\n",
       "</div>"
      ],
      "text/plain": [
       "Empty DataFrame\n",
       "Columns: [(home_score,), (away_score,)]\n",
       "Index: []"
      ]
     },
     "execution_count": 54,
     "metadata": {},
     "output_type": "execute_result"
    }
   ],
   "source": [
    "nwe_tit_df.head()"
   ]
  },
  {
   "cell_type": "code",
   "execution_count": null,
   "id": "4fbcb87b-326d-49f2-9048-8a3fc7919494",
   "metadata": {},
   "outputs": [],
   "source": []
  },
  {
   "cell_type": "code",
   "execution_count": null,
   "id": "269a118f-903c-40b5-a650-e28cede3fc41",
   "metadata": {},
   "outputs": [],
   "source": []
  }
 ],
 "metadata": {
  "kernelspec": {
   "display_name": "Python 3",
   "language": "python",
   "name": "python3"
  },
  "language_info": {
   "codemirror_mode": {
    "name": "ipython",
    "version": 3
   },
   "file_extension": ".py",
   "mimetype": "text/x-python",
   "name": "python",
   "nbconvert_exporter": "python",
   "pygments_lexer": "ipython3",
   "version": "3.7.7"
  }
 },
 "nbformat": 4,
 "nbformat_minor": 5
}
